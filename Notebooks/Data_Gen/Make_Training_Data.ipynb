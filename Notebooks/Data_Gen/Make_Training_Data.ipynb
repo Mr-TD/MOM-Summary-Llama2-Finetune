{
 "cells": [
  {
   "cell_type": "code",
   "execution_count": null,
   "metadata": {},
   "outputs": [],
   "source": [
    "import os\n",
    "\n",
    "folder_path = \"Summary_Data/\"\n",
    "files = [f for f in os.listdir(folder_path) if os.path.isfile(os.path.join(folder_path, f))]\n",
    "print(files)"
   ]
  },
  {
   "cell_type": "code",
   "execution_count": null,
   "metadata": {},
   "outputs": [],
   "source": [
    "import pandas as pd\n",
    "dfs = []\n",
    "for i in files:\n",
    "    temp_df = pd.read_csv('Summary_Data/' + i)\n",
    "    dfs.append(temp_df)\n",
    "combined_df = pd.concat(dfs, ignore_index=True)"
   ]
  },
  {
   "cell_type": "code",
   "execution_count": null,
   "metadata": {},
   "outputs": [],
   "source": [
    "combined_df.to_csv(\"Summary_n_Transcript_data.csv\",index=False)"
   ]
  },
  {
   "cell_type": "code",
   "execution_count": null,
   "metadata": {},
   "outputs": [],
   "source": [
    "import json\n",
    "\n",
    "def clean_transcript(text):\n",
    "    try:\n",
    "        s_ind = text.index(\"{\")\n",
    "        e_ind = text.index(\"}\")\n",
    "    except ValueError:\n",
    "        return {}\n",
    "\n",
    "    #text = text[s_ind:e_ind+1]\n",
    "    text = text.replace('\\\\n', '\\n')\n",
    "    text = text.replace('\\\\\\'', '\\'')\n",
    "    text = text.replace('\\n', '')\n",
    "    text = text.replace('\\\\', '')\n",
    "    text = text.replace(\"   \", '')\n",
    "\n",
    "    try:\n",
    "        dic = json.loads(text)\n",
    "    except json.JSONDecodeError:\n",
    "        return {}\n",
    "\n",
    "    return dic\n"
   ]
  },
  {
   "cell_type": "code",
   "execution_count": null,
   "metadata": {},
   "outputs": [],
   "source": [
    "def clean_summary(text):\n",
    "    text = text.replace('\\\\n', '\\n')\n",
    "    text = text.replace('\\\\\\'', '\\'')\n",
    "    text = text.replace('\\n', '')\n",
    "    text = text.replace('\\\\', '')\n",
    "    text = text.replace(\"   \", '')\n",
    "\n",
    "    try:\n",
    "        dic = json.loads(text)\n",
    "    except json.JSONDecodeError:\n",
    "        return {}\n",
    "\n",
    "    return dic\n"
   ]
  },
  {
   "cell_type": "code",
   "execution_count": null,
   "metadata": {},
   "outputs": [],
   "source": [
    "combined_df['Cleaned_Transcript'] = combined_df['transcript'].map(clean_transcript)\n",
    "combined_df['Cleaned_Summary'] = combined_df['summary'].map(clean_summary)"
   ]
  },
  {
   "cell_type": "code",
   "execution_count": null,
   "metadata": {},
   "outputs": [],
   "source": [
    "combined_df = combined_df[combined_df['Cleaned_Summary'] != {}]"
   ]
  },
  {
   "cell_type": "code",
   "execution_count": null,
   "metadata": {},
   "outputs": [],
   "source": [
    "combined_df = combined_df[['Cleaned_Transcript','Cleaned_Summary']]\n",
    "combined_df.rename(columns={'Cleaned_Transcript':'Meeting Transcript','Cleaned_Summary':'Summary'},inplace=True)"
   ]
  },
  {
   "cell_type": "code",
   "execution_count": null,
   "metadata": {},
   "outputs": [],
   "source": [
    "DEFAULT_SYSTEM_PROMPT = \"\"\"\n",
    "Below is a conversation between a human and an AI agent. Write a summary of the conversation.\n",
    "\"\"\".strip()\n",
    "\n",
    "def generate_training_prompt(\n",
    "    Transcript: str, Summary: str, system_prompt: str = DEFAULT_SYSTEM_PROMPT\n",
    ") -> str:\n",
    "    return f\"\"\"### Instruction: {system_prompt}\n",
    "\n",
    "### Input:\n",
    "{Transcript.strip()}\n",
    "\n",
    "### Response:\n",
    "{Summary}\n",
    "\"\"\".strip()"
   ]
  },
  {
   "cell_type": "code",
   "execution_count": null,
   "metadata": {},
   "outputs": [],
   "source": [
    "combined_df['text'] = combined_df.apply(lambda x: generate_training_prompt(x['Meeting Transcript'],x['Summary']),axis=1)"
   ]
  },
  {
   "cell_type": "code",
   "execution_count": null,
   "metadata": {},
   "outputs": [],
   "source": [
    "combined_df.to_csv(\"MOM_Summary.csv\",index=False)"
   ]
  }
 ],
 "metadata": {
  "language_info": {
   "name": "python"
  }
 },
 "nbformat": 4,
 "nbformat_minor": 2
}
