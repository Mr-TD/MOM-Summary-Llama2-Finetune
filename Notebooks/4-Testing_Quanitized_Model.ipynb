{
 "cells": [
  {
   "cell_type": "code",
   "execution_count": 1,
   "metadata": {},
   "outputs": [],
   "source": [
    "from gpt4all import GPT4All\n",
    "from huggingface_hub import hf_hub_download"
   ]
  },
  {
   "cell_type": "code",
   "execution_count": 71,
   "metadata": {},
   "outputs": [],
   "source": [
    "model = GPT4All(\"C:/Users/DHARMIK/Desktop/LLM/Fine_Tune/GGUF_Models/Llama-2-7b-MOM_Summary.Q8_0.gguf\", allow_download = False, device=\"cpu\")   "
   ]
  },
  {
   "cell_type": "code",
   "execution_count": 72,
   "metadata": {},
   "outputs": [],
   "source": [
    "Transcript = \"\"\"\n",
    "{'date': '2023-03-08',\n",
    " 'time': '10:00 AM - 12:00 PM',\n",
    " 'attendess': ['Manager',\n",
    "  'Junior Developer 1',\n",
    "  'Junior Developer 2',\n",
    "  'Junior Developer 3',\n",
    "  'Junior Developer 4',\n",
    "  'Junior Developer 5',\n",
    "  'Technical Support Engineer'],\n",
    " 'transcript': [\"Manager:Good morning team, let's start our daily standup meeting.\",\n",
    "  'Junior Developer 1:Yesterday, I completed the feature implementation for task XYZ. Today, I plan to start working on bug fixes.',\n",
    "  \"Junior Developer 2:I've been working on refactoring the codebase. I've encountered some issues with unit tests, but I'm confident I can resolve them by this afternoon.\",\n",
    "  \"Junior Developer 3:I've been working on the integration with the third-party API. I'm facing some challenges with the authentication process, but I'm exploring different solutions.\",\n",
    "  \"Junior Developer 4:I've been writing documentation for the new feature. I'm almost done, and I plan to submit it for review by the end of the day.\",\n",
    "  \"Junior Developer 5:I've been assisting users with technical issues. There's been a recent spike in support requests related to a specific feature. I'm working with the team to investigate the issue.\",\n",
    "  \"Technical Support Engineer:I've been testing the new build and have identified a potential performance issue. I've reported it to the team, and we're looking into it.\",\n",
    "  'Manager:Thank you for the updates. Does anyone have any roadblocks or issues they need assistance with?',\n",
    "  \"Junior Developer 3:I'm stuck with the API authentication. I've tried multiple approaches, but none of them seem to work.\",\n",
    "  \"Technical Support Engineer:I've worked with this API before. Let me take a look and see if I can help.\",\n",
    "  \"Manager:That's great. Thanks for stepping in. Junior Developer 3, please work with the Technical Support Engineer to resolve this issue.\",\n",
    "  'Junior Developer 3:Thank you, I appreciate the assistance.',\n",
    "  'Manager:Are there any other updates or announcements?',\n",
    "  \"Junior Developer 2:I'd like to suggest we introduce unit testing for the new feature before it goes live. It will help us catch potential bugs early on.\",\n",
    "  \"Manager:That's a great suggestion. We'll schedule a session to discuss this further and finalize the testing plan.\",\n",
    "  \"Manager:Before we end, I'd like to remind everyone about the upcoming code review deadline. Please complete your reviews and provide feedback by the end of the week.\",\n",
    "  'Attendess:Understood.',\n",
    "  \"Manager:Thank you, team. Let's continue the hard work and keep each other updated on our progress. See you all tomorrow for our next meeting.\"]}\n",
    "\"\"\""
   ]
  },
  {
   "cell_type": "code",
   "execution_count": 73,
   "metadata": {},
   "outputs": [],
   "source": [
    "DEFAULT_SYSTEM_PROMPT = \"\"\"\n",
    "Below is a conversation between a human and an AI agent. Write a summary of the conversation.\n",
    "\"\"\".strip()\n",
    "\n",
    "def generate_prompt(\n",
    "    Transcript: str, system_prompt: str = DEFAULT_SYSTEM_PROMPT\n",
    ") -> str:\n",
    "    return f\"\"\"### Instruction: {system_prompt}\n",
    "\n",
    "### Input:\n",
    "{Transcript.strip()}\n",
    "\n",
    "### Response:\n",
    "\"\"\".strip()"
   ]
  },
  {
   "cell_type": "code",
   "execution_count": 74,
   "metadata": {},
   "outputs": [],
   "source": [
    "prompt = generate_prompt(Transcript)\n",
    "result = model.generate(prompt=prompt,max_tokens=1000)\n",
    "print(result)"
   ]
  }
 ],
 "metadata": {
  "kernelspec": {
   "display_name": "nlp_learning",
   "language": "python",
   "name": "python3"
  },
  "language_info": {
   "codemirror_mode": {
    "name": "ipython",
    "version": 3
   },
   "file_extension": ".py",
   "mimetype": "text/x-python",
   "name": "python",
   "nbconvert_exporter": "python",
   "pygments_lexer": "ipython3",
   "version": "3.11.5"
  }
 },
 "nbformat": 4,
 "nbformat_minor": 2
}
