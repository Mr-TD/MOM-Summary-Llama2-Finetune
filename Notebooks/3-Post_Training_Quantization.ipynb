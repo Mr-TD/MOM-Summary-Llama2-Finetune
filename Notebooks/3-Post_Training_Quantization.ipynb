{
  "cells": [
    {
      "cell_type": "markdown",
      "metadata": {},
      "source": [
        "### Install & Setup llama.cpp"
      ]
    },
    {
      "cell_type": "code",
      "execution_count": null,
      "metadata": {
        "colab": {
          "base_uri": "https://localhost:8080/"
        },
        "id": "zPG65GC6t-6Z",
        "outputId": "c9c1fa09-3d9b-4445-d2f0-b5cbda3cf097"
      },
      "outputs": [],
      "source": [
        "!git clone https://github.com/ggerganov/llama.cpp\n",
        "!cd llama.cpp && git pull && make clean && LLAMA_CUBLAS=1 make\n",
        "!pip install -r llama.cpp/requirements.txt"
      ]
    },
    {
      "cell_type": "code",
      "execution_count": null,
      "metadata": {
        "colab": {
          "base_uri": "https://localhost:8080/"
        },
        "id": "5FN3vwWzwYYx",
        "outputId": "357e64fe-1e28-4cc1-af29-f9b25ea2261f"
      },
      "outputs": [],
      "source": [
        "# Restart the env and run\n",
        "!git lfs install"
      ]
    },
    {
      "cell_type": "markdown",
      "metadata": {},
      "source": [
        "### Download the finetune model for quantization"
      ]
    },
    {
      "cell_type": "code",
      "execution_count": null,
      "metadata": {
        "colab": {
          "base_uri": "https://localhost:8080/"
        },
        "id": "MyvIGg5Uwabl",
        "outputId": "e3817e39-148d-4792-f250-8c54b5011511"
      },
      "outputs": [],
      "source": [
        "from huggingface_hub import snapshot_download\n",
        "\n",
        "MODEL_ID = \"Mr-TD/Llama-2-7b-hf-finetune-MOM_Summary-Points\"\n",
        "MODEL_NAME = MODEL_ID.split('/')[-1]\n",
        "snapshot_download(repo_id=MODEL_ID,local_dir=MODEL_NAME , local_dir_use_symlinks=False)"
      ]
    },
    {
      "cell_type": "markdown",
      "metadata": {
        "id": "g5BVYGOhBM0m"
      },
      "source": [
        "### This step can take a while. Once it’s done, we need to convert our weight to GGML FP16 format."
      ]
    },
    {
      "cell_type": "code",
      "execution_count": null,
      "metadata": {
        "id": "3wOKUjKo4a1U"
      },
      "outputs": [],
      "source": [
        "fp16 = f\"{MODEL_NAME}/{MODEL_NAME.lower()}.fp16.bin\"\n",
        "!python llama.cpp/convert.py {MODEL_NAME} --outtype f16 --outfile {fp16}"
      ]
    },
    {
      "cell_type": "markdown",
      "metadata": {},
      "source": [
        "#### Here is a list of all the possible quant methods and their corresponding use cases, based on model cards made by TheBloke:\n",
        "\n",
        "q2_k: Uses Q4_K for the attention.vw and feed_forward.w2 tensors, Q2_K for the other tensors.<br>\n",
        "\n",
        "q3_k_l: Uses Q5_K for the attention.wv, attention.wo, and feed_forward.w2 tensors, else Q3_K<br>\n",
        "\n",
        "q3_k_m: Uses Q4_K for the attention.wv, attention.wo, and feed_forward.w2 tensors, else Q3_K<br>\n",
        "\n",
        "q3_k_s: Uses Q3_K for all tensors<br>\n",
        "\n",
        "q4_0: Original quant method, 4-bit.<br>\n",
        "\n",
        "q4_1: Higher accuracy than q4_0 but not as high as q5_0. However has quicker inference than q5 models.<br>\n",
        "\n",
        "q4_k_m: Uses Q6_K for half of the attention.wv and feed_forward.w2 tensors, else Q4_K<br>\n",
        "\n",
        "q4_k_s: Uses Q4_K for all tensors<br>\n",
        "\n",
        "q5_0: Higher accuracy, higher resource usage and slower inference.<br>\n",
        "\n",
        "q5_1: Even higher accuracy, resource usage and slower inference.<br>\n",
        "\n",
        "q5_k_m: Uses Q6_K for half of the attention.wv and feed_forward.w2 tensors, else Q5_K<br>\n",
        "\n",
        "q5_k_s: Uses Q5_K for all tensors<br>\n",
        "\n",
        "q6_k: Uses Q8_K for all tensors<br>\n",
        "\n",
        "q8_0: Almost indistinguishable from float16. High resource use and slow. Not recommended for most users.<br>"
      ]
    },
    {
      "cell_type": "markdown",
      "metadata": {},
      "source": [
        "### Finally, we can quantize the model using one or several methods. In this case, we will use the all methods and test. This is the only step that actually requires a GPU."
      ]
    },
    {
      "cell_type": "code",
      "execution_count": null,
      "metadata": {
        "id": "u3rN52ntwdkY"
      },
      "outputs": [],
      "source": [
        "method = 'q2_k'\n",
        "qtype = f\"{MODEL_NAME}/{MODEL_NAME.lower()}.{method.upper()}.gguf\"\n",
        "!./llama.cpp/quantize {fp16} {qtype} {method}"
      ]
    },
    {
      "cell_type": "markdown",
      "metadata": {},
      "source": [
        "### Now we can push quntized model to hub"
      ]
    },
    {
      "cell_type": "code",
      "execution_count": null,
      "metadata": {
        "colab": {
          "base_uri": "https://localhost:8080/"
        },
        "id": "eKJ7HroRndjg",
        "outputId": "cd5596ad-b2b8-4302-c1a6-58b91cc5d528"
      },
      "outputs": [],
      "source": [
        "from huggingface_hub import notebook_login\n",
        "notebook_login()"
      ]
    },
    {
      "cell_type": "code",
      "execution_count": null,
      "metadata": {
        "colab": {
          "base_uri": "https://localhost:8080/",
          "height": 101,
          "referenced_widgets": [
            "01912fcc7ac743b381ac8d81d3092db0",
            "ff32e350605b4c5c8a6b0b5acce2eb49",
            "0f6e26143ac346329d9aac9e8fb099bc",
            "a264213060c94963af57dfc51c3864b0",
            "426fc528f01940798f8ce1fde530f8cc",
            "e5b2d77547614887bed190fe0a7ec259",
            "3e3a14ce2e8148deb8ceb219ee3ab4ee",
            "48a4fe308ab94c54b7c140113fe3cf77",
            "13b03cafecdb43cda169753d0108b594",
            "12d4276c6dc341b0ac1a6adf05752e10",
            "990cf44bf1da48e9aca9721b13138638"
          ]
        },
        "id": "hqmRBbUmN9J5",
        "outputId": "3602c532-5f5b-4b1d-f43a-f737b0a06508"
      },
      "outputs": [],
      "source": [
        "from huggingface_hub import HfApi\n",
        "api = HfApi()\n",
        "api.upload_file(\n",
        "    path_or_fileobj=\"Llama-2-7b-hf-finetune-MOM_Summary-Points/llama-2-7b-hf-finetune-mom_summary-points.Q2_K.gguf\",\n",
        "    repo_id=\"Mr-TD/Llama-2-7b-hf-finetune-MOM\",\n",
        "    path_in_repo='Llama-2-7b-MOM_Summary.Q2_K.gguf',\n",
        "    repo_type=\"model\"\n",
        ")"
      ]
    }
  ],
  "metadata": {
    "accelerator": "GPU",
    "colab": {
      "gpuType": "T4",
      "provenance": []
    },
    "kernelspec": {
      "display_name": "Python 3",
      "name": "python3"
    },
    "language_info": {
      "name": "python"
    },
    "widgets": {
      "application/vnd.jupyter.widget-state+json": {
        "01912fcc7ac743b381ac8d81d3092db0": {
          "model_module": "@jupyter-widgets/controls",
          "model_module_version": "1.5.0",
          "model_name": "HBoxModel",
          "state": {
            "_dom_classes": [],
            "_model_module": "@jupyter-widgets/controls",
            "_model_module_version": "1.5.0",
            "_model_name": "HBoxModel",
            "_view_count": null,
            "_view_module": "@jupyter-widgets/controls",
            "_view_module_version": "1.5.0",
            "_view_name": "HBoxView",
            "box_style": "",
            "children": [
              "IPY_MODEL_ff32e350605b4c5c8a6b0b5acce2eb49",
              "IPY_MODEL_0f6e26143ac346329d9aac9e8fb099bc",
              "IPY_MODEL_a264213060c94963af57dfc51c3864b0"
            ],
            "layout": "IPY_MODEL_426fc528f01940798f8ce1fde530f8cc"
          }
        },
        "0f6e26143ac346329d9aac9e8fb099bc": {
          "model_module": "@jupyter-widgets/controls",
          "model_module_version": "1.5.0",
          "model_name": "FloatProgressModel",
          "state": {
            "_dom_classes": [],
            "_model_module": "@jupyter-widgets/controls",
            "_model_module_version": "1.5.0",
            "_model_name": "FloatProgressModel",
            "_view_count": null,
            "_view_module": "@jupyter-widgets/controls",
            "_view_module_version": "1.5.0",
            "_view_name": "ProgressView",
            "bar_style": "success",
            "description": "",
            "description_tooltip": null,
            "layout": "IPY_MODEL_48a4fe308ab94c54b7c140113fe3cf77",
            "max": 13478104800,
            "min": 0,
            "orientation": "horizontal",
            "style": "IPY_MODEL_13b03cafecdb43cda169753d0108b594",
            "value": 13478104800
          }
        },
        "12d4276c6dc341b0ac1a6adf05752e10": {
          "model_module": "@jupyter-widgets/base",
          "model_module_version": "1.2.0",
          "model_name": "LayoutModel",
          "state": {
            "_model_module": "@jupyter-widgets/base",
            "_model_module_version": "1.2.0",
            "_model_name": "LayoutModel",
            "_view_count": null,
            "_view_module": "@jupyter-widgets/base",
            "_view_module_version": "1.2.0",
            "_view_name": "LayoutView",
            "align_content": null,
            "align_items": null,
            "align_self": null,
            "border": null,
            "bottom": null,
            "display": null,
            "flex": null,
            "flex_flow": null,
            "grid_area": null,
            "grid_auto_columns": null,
            "grid_auto_flow": null,
            "grid_auto_rows": null,
            "grid_column": null,
            "grid_gap": null,
            "grid_row": null,
            "grid_template_areas": null,
            "grid_template_columns": null,
            "grid_template_rows": null,
            "height": null,
            "justify_content": null,
            "justify_items": null,
            "left": null,
            "margin": null,
            "max_height": null,
            "max_width": null,
            "min_height": null,
            "min_width": null,
            "object_fit": null,
            "object_position": null,
            "order": null,
            "overflow": null,
            "overflow_x": null,
            "overflow_y": null,
            "padding": null,
            "right": null,
            "top": null,
            "visibility": null,
            "width": null
          }
        },
        "13b03cafecdb43cda169753d0108b594": {
          "model_module": "@jupyter-widgets/controls",
          "model_module_version": "1.5.0",
          "model_name": "ProgressStyleModel",
          "state": {
            "_model_module": "@jupyter-widgets/controls",
            "_model_module_version": "1.5.0",
            "_model_name": "ProgressStyleModel",
            "_view_count": null,
            "_view_module": "@jupyter-widgets/base",
            "_view_module_version": "1.2.0",
            "_view_name": "StyleView",
            "bar_color": null,
            "description_width": ""
          }
        },
        "3e3a14ce2e8148deb8ceb219ee3ab4ee": {
          "model_module": "@jupyter-widgets/controls",
          "model_module_version": "1.5.0",
          "model_name": "DescriptionStyleModel",
          "state": {
            "_model_module": "@jupyter-widgets/controls",
            "_model_module_version": "1.5.0",
            "_model_name": "DescriptionStyleModel",
            "_view_count": null,
            "_view_module": "@jupyter-widgets/base",
            "_view_module_version": "1.2.0",
            "_view_name": "StyleView",
            "description_width": ""
          }
        },
        "426fc528f01940798f8ce1fde530f8cc": {
          "model_module": "@jupyter-widgets/base",
          "model_module_version": "1.2.0",
          "model_name": "LayoutModel",
          "state": {
            "_model_module": "@jupyter-widgets/base",
            "_model_module_version": "1.2.0",
            "_model_name": "LayoutModel",
            "_view_count": null,
            "_view_module": "@jupyter-widgets/base",
            "_view_module_version": "1.2.0",
            "_view_name": "LayoutView",
            "align_content": null,
            "align_items": null,
            "align_self": null,
            "border": null,
            "bottom": null,
            "display": null,
            "flex": null,
            "flex_flow": null,
            "grid_area": null,
            "grid_auto_columns": null,
            "grid_auto_flow": null,
            "grid_auto_rows": null,
            "grid_column": null,
            "grid_gap": null,
            "grid_row": null,
            "grid_template_areas": null,
            "grid_template_columns": null,
            "grid_template_rows": null,
            "height": null,
            "justify_content": null,
            "justify_items": null,
            "left": null,
            "margin": null,
            "max_height": null,
            "max_width": null,
            "min_height": null,
            "min_width": null,
            "object_fit": null,
            "object_position": null,
            "order": null,
            "overflow": null,
            "overflow_x": null,
            "overflow_y": null,
            "padding": null,
            "right": null,
            "top": null,
            "visibility": null,
            "width": null
          }
        },
        "48a4fe308ab94c54b7c140113fe3cf77": {
          "model_module": "@jupyter-widgets/base",
          "model_module_version": "1.2.0",
          "model_name": "LayoutModel",
          "state": {
            "_model_module": "@jupyter-widgets/base",
            "_model_module_version": "1.2.0",
            "_model_name": "LayoutModel",
            "_view_count": null,
            "_view_module": "@jupyter-widgets/base",
            "_view_module_version": "1.2.0",
            "_view_name": "LayoutView",
            "align_content": null,
            "align_items": null,
            "align_self": null,
            "border": null,
            "bottom": null,
            "display": null,
            "flex": null,
            "flex_flow": null,
            "grid_area": null,
            "grid_auto_columns": null,
            "grid_auto_flow": null,
            "grid_auto_rows": null,
            "grid_column": null,
            "grid_gap": null,
            "grid_row": null,
            "grid_template_areas": null,
            "grid_template_columns": null,
            "grid_template_rows": null,
            "height": null,
            "justify_content": null,
            "justify_items": null,
            "left": null,
            "margin": null,
            "max_height": null,
            "max_width": null,
            "min_height": null,
            "min_width": null,
            "object_fit": null,
            "object_position": null,
            "order": null,
            "overflow": null,
            "overflow_x": null,
            "overflow_y": null,
            "padding": null,
            "right": null,
            "top": null,
            "visibility": null,
            "width": null
          }
        },
        "990cf44bf1da48e9aca9721b13138638": {
          "model_module": "@jupyter-widgets/controls",
          "model_module_version": "1.5.0",
          "model_name": "DescriptionStyleModel",
          "state": {
            "_model_module": "@jupyter-widgets/controls",
            "_model_module_version": "1.5.0",
            "_model_name": "DescriptionStyleModel",
            "_view_count": null,
            "_view_module": "@jupyter-widgets/base",
            "_view_module_version": "1.2.0",
            "_view_name": "StyleView",
            "description_width": ""
          }
        },
        "a264213060c94963af57dfc51c3864b0": {
          "model_module": "@jupyter-widgets/controls",
          "model_module_version": "1.5.0",
          "model_name": "HTMLModel",
          "state": {
            "_dom_classes": [],
            "_model_module": "@jupyter-widgets/controls",
            "_model_module_version": "1.5.0",
            "_model_name": "HTMLModel",
            "_view_count": null,
            "_view_module": "@jupyter-widgets/controls",
            "_view_module_version": "1.5.0",
            "_view_name": "HTMLView",
            "description": "",
            "description_tooltip": null,
            "layout": "IPY_MODEL_12d4276c6dc341b0ac1a6adf05752e10",
            "placeholder": "​",
            "style": "IPY_MODEL_990cf44bf1da48e9aca9721b13138638",
            "value": " 13.5G/13.5G [05:19&lt;00:00, 35.8MB/s]"
          }
        },
        "e5b2d77547614887bed190fe0a7ec259": {
          "model_module": "@jupyter-widgets/base",
          "model_module_version": "1.2.0",
          "model_name": "LayoutModel",
          "state": {
            "_model_module": "@jupyter-widgets/base",
            "_model_module_version": "1.2.0",
            "_model_name": "LayoutModel",
            "_view_count": null,
            "_view_module": "@jupyter-widgets/base",
            "_view_module_version": "1.2.0",
            "_view_name": "LayoutView",
            "align_content": null,
            "align_items": null,
            "align_self": null,
            "border": null,
            "bottom": null,
            "display": null,
            "flex": null,
            "flex_flow": null,
            "grid_area": null,
            "grid_auto_columns": null,
            "grid_auto_flow": null,
            "grid_auto_rows": null,
            "grid_column": null,
            "grid_gap": null,
            "grid_row": null,
            "grid_template_areas": null,
            "grid_template_columns": null,
            "grid_template_rows": null,
            "height": null,
            "justify_content": null,
            "justify_items": null,
            "left": null,
            "margin": null,
            "max_height": null,
            "max_width": null,
            "min_height": null,
            "min_width": null,
            "object_fit": null,
            "object_position": null,
            "order": null,
            "overflow": null,
            "overflow_x": null,
            "overflow_y": null,
            "padding": null,
            "right": null,
            "top": null,
            "visibility": null,
            "width": null
          }
        },
        "ff32e350605b4c5c8a6b0b5acce2eb49": {
          "model_module": "@jupyter-widgets/controls",
          "model_module_version": "1.5.0",
          "model_name": "HTMLModel",
          "state": {
            "_dom_classes": [],
            "_model_module": "@jupyter-widgets/controls",
            "_model_module_version": "1.5.0",
            "_model_name": "HTMLModel",
            "_view_count": null,
            "_view_module": "@jupyter-widgets/controls",
            "_view_module_version": "1.5.0",
            "_view_name": "HTMLView",
            "description": "",
            "description_tooltip": null,
            "layout": "IPY_MODEL_e5b2d77547614887bed190fe0a7ec259",
            "placeholder": "​",
            "style": "IPY_MODEL_3e3a14ce2e8148deb8ceb219ee3ab4ee",
            "value": "llama-2-7b-hf-finetune-mom_summary-points.fp16.bin: 100%"
          }
        }
      }
    }
  },
  "nbformat": 4,
  "nbformat_minor": 0
}
